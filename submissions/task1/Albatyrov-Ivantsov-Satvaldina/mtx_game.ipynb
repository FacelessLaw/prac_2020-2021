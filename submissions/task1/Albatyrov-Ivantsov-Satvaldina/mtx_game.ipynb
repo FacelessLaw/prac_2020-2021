{
 "cells": [
  {
   "cell_type": "markdown",
   "metadata": {},
   "source": [
    "# Решение матричной игры с помощью симплекс-метода"
   ]
  },
  {
   "cell_type": "code",
   "execution_count": 24,
   "metadata": {},
   "outputs": [],
   "source": [
    "import numpy as np\n",
    "import os\n",
    "import sys\n"
   ]
  },
  {
   "cell_type": "markdown",
   "metadata": {},
   "source": [
    "# Проверка на наличие седловой точки.\n",
    "Если седловая точка существует, то возвращаются ее координаты. В таком случае, решение игры выписывается в чистых стратегиях."
   ]
  },
  {
   "cell_type": "code",
   "execution_count": 25,
   "metadata": {},
   "outputs": [],
   "source": [
    "def saddle_point(a):\n",
    "    m = len(a); n = len(a[0])\n",
    "    min_a = np.zeros(m)\n",
    "    max_a = np.zeros(n)\n",
    "    for i in range(m):\n",
    "        min_a[i] = np.min(a[i])\n",
    "      \n",
    "    for j in range(n):\n",
    "        max_a[j] = np.max(a[:,j])\n",
    "        \n",
    "    maxmin = np.max(min_a)\n",
    "    minmax = np.min(max_a)\n",
    "    if maxmin == minmax:\n",
    "        index_max = np.where(min_a == maxmin)[0][0]\n",
    "        index_min = np.where(max_a == minmax)[0][0]\n",
    "        return a[index_max], a[:,index_min] \n",
    "    return -1, -1"
   ]
  },
  {
   "cell_type": "markdown",
   "metadata": {},
   "source": [
    "# Удаление доминируемых строк и столбцов\n",
    "Говорят, что $i$-я стратегия 1-го игрока доминирует его $k$-ю стратегию, если $a_{ij}$ ≥ $a_{kj}$ для всех $j \\in N$ и хотя бы для одного $j$ $a_{ij} > a_{kj}$. В этом случае говорят также, что $i$-я стратегия (или строка) – доминирующая, $k$-я – доминируемая. \n",
    "\n",
    "Говорят, что $j$-я стратегия 2-го игрока доминирует его $l$-ю стратегию, если для всех $j \\in M$ $a_{ij} ≤ a_{il}$ и хотя бы для одного $i$ $a_{ij} < a_{il}$. В этом случае $j$-ю стратегию (столбец) называют доминирующей, $l$-ю – доминируемой. "
   ]
  },
  {
   "cell_type": "code",
   "execution_count": 26,
   "metadata": {},
   "outputs": [],
   "source": [
    "def dominant_strategies(a):\n",
    "    m = len(a); n = len(a[0])\n",
    "    rows = np.zeros((0))\n",
    "    cols = np.zeros((0))\n",
    "    delete = 0\n",
    "    for i in range(m):\n",
    "        if i >= m:\n",
    "            continue\n",
    "        for j in range(m):\n",
    "            if j >= m or i >= m:\n",
    "                continue\n",
    "            if i != j:\n",
    "                if np.prod(a[i] >= a[j]) == 1:\n",
    "                    a = np.delete(a, (j), axis=0)\n",
    "                    rows = np.append(rows,j + delete)\n",
    "                    delete += 1\n",
    "                    m = len(a)\n",
    "                    j -= 1\n",
    "                    i -= 1\n",
    "                    \n",
    "      \n",
    "    delete = 0          \n",
    "    for i in range(n):\n",
    "        if i >= n:\n",
    "            continue\n",
    "        for j in range(n):\n",
    "            if j >= n or i >= n:\n",
    "                continue\n",
    "            if i != j:\n",
    "                if np.prod(a[:,i] <= a[:,j]) == 1:\n",
    "                    a = np.delete(a, (j), axis=1)\n",
    "                    cols = np.append(cols,j+delete)\n",
    "                    delete += 1\n",
    "                    n = len(a[0])\n",
    "                    j -= 1\n",
    "                    i -= 1\n",
    "    return a, rows, cols"
   ]
  },
  {
   "cell_type": "markdown",
   "metadata": {},
   "source": [
    "# Создание симплекс-таблицы"
   ]
  },
  {
   "cell_type": "code",
   "execution_count": 27,
   "metadata": {},
   "outputs": [],
   "source": [
    "def create_s0(a):\n",
    "    if np.min(a) < 0:\n",
    "        a += abs(np.min(a))\n",
    "    m = len(a); n = len(a[0])\n",
    "    s0 = np.zeros((n+1,m+2))\n",
    "    \n",
    "    for j in range(1,m+1):\n",
    "        s0[n][j] = 1\n",
    "    for i in range(n):\n",
    "        s0[i][0] = -1\n",
    "        for j in range(1,m+1):\n",
    "            s0[i][j] = -a[j-1][i]\n",
    "            \n",
    "    return s0  "
   ]
  },
  {
   "cell_type": "markdown",
   "metadata": {},
   "source": []
  },
  {
   "cell_type": "markdown",
   "metadata": {},
   "source": [
    "# Реализация алгоритма симплекс-метода"
   ]
  },
  {
   "cell_type": "code",
   "execution_count": 28,
   "metadata": {},
   "outputs": [],
   "source": [
    "\n",
    "def simplex(s0,indices):\n",
    "    m = len(s0); n = len(s0[0])\n",
    "    min_el = np.min(s0[:-1,0])\n",
    "    if min_el >= 0:\n",
    "        return 1\n",
    "    \n",
    "    leading_row = (np.where(s0[:-1,0] == min_el))[0][0]\n",
    "    \n",
    "    min_ = leading_col = 1000\n",
    "    for i in range(1,n-1):\n",
    "        if s0[leading_row][i] < 0:\n",
    "            temp = abs(s0[m-1][i] / s0[leading_row][i])\n",
    "            if temp < min_:\n",
    "                min_ = temp\n",
    "                leading_col = i\n",
    "    leading_el = s0[leading_row][leading_col]            \n",
    "    index_col = indices[leading_col-1]\n",
    "    index_row = indices[leading_row + n - 2]\n",
    "    indices[leading_col - 1] = index_row\n",
    "    indices[leading_row + n - 2] = index_col\n",
    "  \n",
    "    for j in range(n-1):\n",
    "        s0[leading_row][j] /= leading_el\n",
    "    s0[leading_row][leading_col] = 1 / leading_el\n",
    "    \n",
    "    for i in range(m):\n",
    "        s0[i][n-1] = - s0[i][leading_col]\n",
    "    for i in range(m):\n",
    "        if i == leading_row:\n",
    "            continue\n",
    "        for j in range(n-1):\n",
    "            if j == leading_col:\n",
    "                s0[i][j] = s0[leading_row][j] * s0[i][n-1]\n",
    "            else:\n",
    "                s0[i][j] += s0[leading_row][j] * s0[i][n-1]           \n",
    "    return 0\n",
    " "
   ]
  },
  {
   "cell_type": "markdown",
   "metadata": {},
   "source": [
    "# Основная функция\n",
    "Строит симплекс-таблицы. Возвращает оптимальные стратегии игроков."
   ]
  },
  {
   "cell_type": "code",
   "execution_count": 29,
   "metadata": {},
   "outputs": [],
   "source": [
    "   \n",
    "def nash_equilibrium(a):\n",
    "    m0= len(a); n0 = len(a[0])\n",
    "    strategy1, strategy2 = saddle_point(a)\n",
    "    if isinstance(strategy1, int) == 0:\n",
    "        print(\"\\nEquillibrium situation.\")\n",
    "        print(\"Optimal strategy for the first player: \", strategy1)\n",
    "        print(\"Optimal strategy for the second player: \", strategy2)\n",
    "        return 0\n",
    "    a, rows, cols = dominant_strategies(a)\n",
    "    s0 = create_s0(a)\n",
    "    m = len(a); n = len(a[0])\n",
    "    indices = [i+1 for i in range(m+n)]\n",
    "    \n",
    "    sign = 0\n",
    "    while sign == 0:\n",
    "        sign = simplex(s0, indices)\n",
    "        \n",
    "    x = np.zeros(m); y = np.zeros(n)    \n",
    "    for i in range(m+n):\n",
    "        if i < m and indices[i] > m:\n",
    "            y[indices[i]-m-1] = s0[n][i+1]\n",
    "        elif i >= m and indices[i] <= n:\n",
    "            x[indices[i]-1] = s0[i-m][0]\n",
    "            \n",
    "    v = 1/np.sum(x)      \n",
    "    p = np.zeros(m0); q = np.zeros(n0)\n",
    "    j = 0\n",
    "    for i in range(m0):\n",
    "        if i in rows:\n",
    "            continue\n",
    "        if j >= m:\n",
    "            break\n",
    "        p[i] = x[j] * v\n",
    "        j += 1\n",
    "    j = 0   \n",
    "    for i in range(n0):\n",
    "        if i in cols:\n",
    "            continue\n",
    "        if j >= n:\n",
    "            break\n",
    "        q[i] = y[j] * v\n",
    "        j += 1\n",
    "    \n",
    "    print(\"\\nGame price v = \",v)\n",
    "    print(\"\\nOptimal strategy for the first player:\\n \", p)\n",
    "    print(\"\\nOptimal strategy for the second player:\\n \", q)\n",
    "    return p,q"
   ]
  },
  {
   "cell_type": "markdown",
   "metadata": {},
   "source": [
    "# Считывание матриц с файла"
   ]
  },
  {
   "cell_type": "code",
   "execution_count": 30,
   "metadata": {},
   "outputs": [],
   "source": [
    "\n",
    "def read_matrix(file):\n",
    "    return np.loadtxt(file, dtype='f', delimiter=' ')"
   ]
  },
  {
   "cell_type": "markdown",
   "metadata": {},
   "source": [
    "# Main"
   ]
  },
  {
   "cell_type": "code",
   "execution_count": 31,
   "metadata": {},
   "outputs": [
    {
     "name": "stdout",
     "output_type": "stream",
     "text": [
      "Input matrix:\n",
      " [[ 4.  0.  6.  2.  2.  1.]\n",
      " [ 3.  8.  4. 10.  4.  4.]\n",
      " [ 1.  2.  6.  5.  0.  0.]\n",
      " [ 6.  6.  4.  4. 10.  3.]\n",
      " [10.  4.  6.  4.  0.  9.]\n",
      " [10.  7.  0.  7.  9.  8.]]\n"
     ]
    }
   ],
   "source": [
    "if __name__ == \"__main__\":\n",
    "    if len(sys.argv) > 3:\n",
    "        a = read_matrix(sys.argv[1])\n",
    "    else:        \n",
    "        #Считываем платежную матрицу\n",
    "        path = os.path.join('.','files','matrix_a.txt')   \n",
    "        a = read_matrix(path)\n",
    "print(\"Input matrix:\\n\",a)\n"
   ]
  },
  {
   "cell_type": "code",
   "execution_count": 32,
   "metadata": {},
   "outputs": [
    {
     "name": "stdout",
     "output_type": "stream",
     "text": [
      "\n",
      "Game price v =  4.870967741935486\n",
      "\n",
      "Optimal strategy for the first player:\n",
      "  [0.         0.12903226 0.09677419 0.43548387 0.33870968 0.        ]\n",
      "\n",
      "Optimal strategy for the second player:\n",
      "  [0.         0.         0.69086022 0.14516129 0.14784946 0.01612903]\n"
     ]
    }
   ],
   "source": [
    "p,q = nash_equilibrium(a)"
   ]
  },
  {
   "cell_type": "markdown",
   "metadata": {},
   "source": [
    "# Визуализация спектров оптимальных стратегий"
   ]
  },
  {
   "cell_type": "code",
   "execution_count": 33,
   "metadata": {},
   "outputs": [
    {
     "data": {
      "image/png": "[encoded data removed]",
      "text/plain": [
       "<Figure size 432x288 with 1 Axes>"
      ]
     },
     "metadata": {
      "needs_background": "light"
     },
     "output_type": "display_data"
    }
   ],
   "source": [
    "import matplotlib.pyplot as plt\n",
    "\n",
    "i = 0\n",
    "x = [i+1 for i in range(len(p))]\n",
    "i = 0\n",
    "y1 = [0 for i in range(len(p))]\n",
    "\n",
    "plt.vlines(x, ymin=y1, ymax=p, color='blue')\n",
    "plt.scatter(x, p, s=55, color='blue')\n",
    "plt.show()"
   ]
  },
  {
   "cell_type": "code",
   "execution_count": null,
   "metadata": {},
   "outputs": [],
   "source": []
  }
 ],
 "metadata": {
  "kernelspec": {
   "display_name": "Python 3",
   "language": "python",
   "name": "python3"
  },
  "language_info": {
   "codemirror_mode": {
    "name": "ipython",
    "version": 3
   },
   "file_extension": ".py",
   "mimetype": "text/x-python",
   "name": "python",
   "nbconvert_exporter": "python",
   "pygments_lexer": "ipython3",
   "version": "3.6.9"
  }
 },
 "nbformat": 4,
 "nbformat_minor": 4
}
