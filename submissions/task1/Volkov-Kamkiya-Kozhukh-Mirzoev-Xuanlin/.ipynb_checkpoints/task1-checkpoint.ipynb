{
 "cells": [
  {
   "cell_type": "code",
   "execution_count": 1,
   "metadata": {},
   "outputs": [],
   "source": [
    "%matplotlib inline"
   ]
  },
  {
   "cell_type": "code",
   "execution_count": 2,
   "metadata": {
    "scrolled": true
   },
   "outputs": [],
   "source": [
    "import sys\n",
    "\n",
    "import sys\n",
    "\n",
    "import lib.simplex_method\n",
    "import utils.matrix_stuff\n",
    "import matplotlib.pyplot as plotter\n",
    "\n",
    "def source_input():\n",
    "    ''' \n",
    "    Prints start information, read source data.\n",
    "    Returns matrix, count of rows and columns\n",
    "    '''\n",
    "    print(\"********************************************************\")\n",
    "    print(\"Input source data\")\n",
    "    try:\n",
    "        N = int(input(\"Count of strategies of 1 player: \"))\n",
    "        M = int(input(\"Count of strategies of 2 player: \"))\n",
    "        print(\"Enter the game matrix:\")\n",
    "        matrix = []\n",
    "    \n",
    "        i = 0\n",
    "        while i < N:\n",
    "            row = input().split()\n",
    "            assert len(row) == M\n",
    "            matrix.append([float(j) for j in row])\n",
    "            i += 1\n",
    "    except AssertionError:\n",
    "        print(\"Wrong count of column\")\n",
    "        sys.exit()\n",
    "    except ValueError:\n",
    "        print(\"Wrong type of value\")\n",
    "        sys.exit()\n",
    "    return N, M, matrix\n",
    "\n",
    "\n",
    "def prepare_matrix(matrix, indexes1, indexes2, n, m, enable_rows_and_columns_elimination = 0):\n",
    "    ''' \n",
    "    matrix = list[list[float]]; copy of source_matrix\n",
    "    indexes1 = list[int]; usable indexes of rows\n",
    "    indexes2 = list[int]; usable indexes of columns\n",
    "    n = int: count of strategies of first player\n",
    "    m = int: count of strategies of second player\n",
    "    enable_rows_and_columns_elimination = bool: \n",
    "        enables dominated or equal rows and columns elimination\n",
    "    ---------------------------------------------\n",
    "    Delete dominated strategies, transform to matrix with only positive elements.\n",
    "    Returns the value of minimal element in matrix\n",
    "    '''\n",
    "    \n",
    "    if (enable_rows_and_columns_elimination):\n",
    "        utils.matrix_stuff.delete_dominated_n_equal(matrix, indexes1, indexes2, n, m)\n",
    "    \n",
    "    n = len(matrix)\n",
    "    m = len(matrix[0])\n",
    "\n",
    "    min_el = matrix[0][0]\n",
    "    is_any_negative = False\n",
    "\n",
    "    for i in range(n):\n",
    "      for j in range(m):\n",
    "          if matrix[i][j] < 0:\n",
    "              is_any_negative = True\n",
    "          min_el = min(min_el, matrix[i][j])\n",
    "    \n",
    "    if is_any_negative:\n",
    "        for i in range(n):\n",
    "            for j in range(m):\n",
    "                matrix[i][j] -= min_el\n",
    "\n",
    "    return min_el\n",
    "\n",
    "def plot (game_plot):\n",
    "    fig = plotter.figure(figsize=(10, 10))\n",
    "    ax1 = fig.add_subplot(211)\n",
    "    ax1.stem(range(1, len(game_plot) + 1), game_plot)\n",
    "    fig.suptitle(\"Vector of optimal strategies\", fontsize=16)\n",
    "\n",
    "def get_simplex(matrix, n, m, pl_type = 0):\n",
    "    '''\n",
    "    matrix = list[list[float]]: modified matrix of game\n",
    "    n = int: count of rows\n",
    "    m = int: count of columns\n",
    "    pl_type = int: 0 - first player, 1 - second player\n",
    "    Cast modified matrix of game to linear programming task and run simplex-method.\n",
    "    Returns result simplex-table\n",
    "    '''\n",
    "    lp_matrix = []\n",
    "\n",
    "    if pl_type == 0:\n",
    "        for i in range(m):\n",
    "            row = []\n",
    "            for j in range(n):\n",
    "                row.append(matrix[j][i])\n",
    "            lp_matrix.append(row)\n",
    "    else:\n",
    "        for i in range(n):\n",
    "            row = []\n",
    "            for j in range(m):\n",
    "                row.append(matrix[i][j])\n",
    "            lp_matrix.append(row)\n",
    "    \n",
    "    return lib.simplex_method.run_simplex(lp_matrix, pl_type)\n",
    "\n",
    "\n",
    "def test(source_n, source_m, source_matrix):\n",
    "    ''' \n",
    "    main function\n",
    "    '''\n",
    "    matrix = source_matrix.copy()\n",
    "    n, m = source_n, source_m\n",
    "    \n",
    "    indexes1 = list(range(n))\n",
    "    indexes2 = list(range(m))\n",
    "    \n",
    "    min_el = prepare_matrix(matrix, indexes1, indexes2, n, m, 1)\n",
    "    \n",
    "    n = len(matrix)\n",
    "    m = len(matrix[0])\n",
    "\n",
    "    simplex_matrix1 = get_simplex(matrix, n, m, 0)\n",
    "    simplex_matrix2 = get_simplex(matrix, n, m, 1)\n",
    "    \n",
    "    target_f = 0\n",
    "    target_plan1 = [0] * (len(simplex_matrix1[0]) - 2)\n",
    "    target_plan2 = [0] * (len(simplex_matrix2[0]) - 2)\n",
    "    for i in range(1, len(simplex_matrix1)):\n",
    "        curr_value = simplex_matrix1[i][len(simplex_matrix1[i]) - 1]\n",
    "        target_plan1[simplex_matrix1[i][0] - 1] = curr_value\n",
    "        target_f += curr_value * simplex_matrix1[0][simplex_matrix1[i][0]]\n",
    "\n",
    "        curr_value = simplex_matrix2[i][len(simplex_matrix2[i]) - 1]\n",
    "        target_plan2[simplex_matrix2[i][0] - 1] = curr_value\n",
    "    \n",
    "    V = 1 / target_f\n",
    "    print(\"Target F = {}\".format(target_f))\n",
    "    print(\"Then V = {}\".format(V))\n",
    "    \n",
    "    if min_el != 0:\n",
    "        V = 1 / target_f - min_el\n",
    "        print(\"Source matrix was modified by adding min_el = {}\".format(min_el))\n",
    "        print(\"V = V' - min_el = {}\".format(V))\n",
    "    \n",
    "    first_player_tactics = []\n",
    "    it = 0\n",
    "    for i in range(len(source_matrix)):\n",
    "        if i == indexes1[it]:\n",
    "            first_player_tactics.append(target_plan1[it] * V)\n",
    "            it += 1\n",
    "        else:\n",
    "            first_player_tactics.append(0)\n",
    "    \n",
    "    second_player_tactics = []\n",
    "    it = 0\n",
    "    for i in range(len(source_matrix)):\n",
    "        if i == indexes2[it]:\n",
    "            second_player_tactics.append(target_plan2[it] * V)\n",
    "            it += 1\n",
    "        else:\n",
    "            second_player_tactics.append(0)\n",
    "    \n",
    "    print(\"First player tactics: {}\".format(first_player_tactics))\n",
    "    print(\"Second player tactics: {}\".format(second_player_tactics)) \n",
    "\n",
    "    plot(first_player_tactics)   "
   ]
  },
  {
   "cell_type": "code",
   "execution_count": 3,
   "metadata": {
    "scrolled": false
   },
   "outputs": [
    {
     "name": "stdout",
     "output_type": "stream",
     "text": [
      "********************************************************\n",
      "Input source data\n",
      "Count of strategies of 1 player: 3\n",
      "Count of strategies of 2 player: 3\n",
      "Enter the game matrix:\n",
      "1 2 3\n",
      "0 5 1\n",
      "6 2 5\n",
      "Target F = 0.30434782608695654\n",
      "Then V = 3.2857142857142856\n",
      "First player tactics: [0.0, 0.42857142857142866, 0.5714285714285715]\n",
      "Second player tactics: [0.0, 0.5714285714285715, 0.42857142857142844]\n"
     ]
    },
    {
     "name": "stderr",
     "output_type": "stream",
     "text": [
      "/opt/anaconda3/lib/python3.7/site-packages/ipykernel_launcher.py:76: UserWarning: In Matplotlib 3.3 individual lines on a stem plot will be added as a LineCollection instead of individual lines. This significantly improves the performance of a stem plot. To remove this warning and switch to the new behaviour, set the \"use_line_collection\" keyword argument to True.\n"
     ]
    },
    {
     "data": {
      "image/png": "[encoded data removed]",
      "text/plain": [
       "<Figure size 720x720 with 1 Axes>"
      ]
     },
     "metadata": {
      "needs_background": "light"
     },
     "output_type": "display_data"
    }
   ],
   "source": [
    "source_n, source_m, source_matrix = source_input()\n",
    "test(source_n, source_m, source_matrix)"
   ]
  },
  {
   "cell_type": "code",
   "execution_count": 1,
   "metadata": {},
   "outputs": [
    {
     "ename": "NameError",
     "evalue": "name 'source_input' is not defined",
     "output_type": "error",
     "traceback": [
      "\u001b[0;31m---------------------------------------------------------------------------\u001b[0m",
      "\u001b[0;31mNameError\u001b[0m                                 Traceback (most recent call last)",
      "\u001b[0;32m<ipython-input-1-350d0281117b>\u001b[0m in \u001b[0;36m<module>\u001b[0;34m\u001b[0m\n\u001b[0;32m----> 1\u001b[0;31m \u001b[0msource_n\u001b[0m\u001b[0;34m,\u001b[0m \u001b[0msource_m\u001b[0m\u001b[0;34m,\u001b[0m \u001b[0msource_matrix\u001b[0m \u001b[0;34m=\u001b[0m \u001b[0msource_input\u001b[0m\u001b[0;34m(\u001b[0m\u001b[0;34m)\u001b[0m\u001b[0;34m\u001b[0m\u001b[0;34m\u001b[0m\u001b[0m\n\u001b[0m\u001b[1;32m      2\u001b[0m \u001b[0mtest\u001b[0m\u001b[0;34m(\u001b[0m\u001b[0msource_n\u001b[0m\u001b[0;34m,\u001b[0m \u001b[0msource_m\u001b[0m\u001b[0;34m,\u001b[0m \u001b[0msource_matrix\u001b[0m\u001b[0;34m)\u001b[0m\u001b[0;34m\u001b[0m\u001b[0;34m\u001b[0m\u001b[0m\n",
      "\u001b[0;31mNameError\u001b[0m: name 'source_input' is not defined"
     ]
    }
   ],
   "source": [
    "source_n, source_m, source_matrix = source_input()\n",
    "test(source_n, source_m, source_matrix)"
   ]
  },
  {
   "cell_type": "code",
   "execution_count": 20,
   "metadata": {},
   "outputs": [
    {
     "name": "stdout",
     "output_type": "stream",
     "text": [
      "Target F = 0.33333333333333337\n",
      "Then V = 2.9999999999999996\n",
      "Source matrix was modified by adding min_el = 1\n",
      "V = V' - min_el = 1.9999999999999996\n",
      "First player tactics: [0.33333333333333326, 0, 0.3333333333333333]\n",
      "Second player tactics: [0.4444444444444443, 0, 0.22222222222222215]\n"
     ]
    },
    {
     "name": "stderr",
     "output_type": "stream",
     "text": [
      "/opt/anaconda3/lib/python3.7/site-packages/ipykernel_launcher.py:76: UserWarning: In Matplotlib 3.3 individual lines on a stem plot will be added as a LineCollection instead of individual lines. This significantly improves the performance of a stem plot. To remove this warning and switch to the new behaviour, set the \"use_line_collection\" keyword argument to True.\n"
     ]
    },
    {
     "data": {
      "image/png": "[encoded data removed]",
      "text/plain": [
       "<Figure size 720x720 with 1 Axes>"
      ]
     },
     "metadata": {
      "needs_background": "light"
     },
     "output_type": "display_data"
    }
   ],
   "source": [
    "source_n = 3\n",
    "source_m = 3\n",
    "source_matrix = [[2, 4, 5],\n",
    "                [0, 5, 1],\n",
    "                [4, 5, 1]]\n",
    "test(source_n, source_m, source_matrix)"
   ]
  },
  {
   "cell_type": "code",
   "execution_count": 21,
   "metadata": {},
   "outputs": [
    {
     "name": "stdout",
     "output_type": "stream",
     "text": [
      "Target F = 0.4375\n",
      "Then V = 2.2857142857142856\n",
      "First player tactics: [0.5714285714285714, 0.42857142857142855]\n",
      "Second player tactics: [0.5714285714285714, 0]\n"
     ]
    },
    {
     "name": "stderr",
     "output_type": "stream",
     "text": [
      "/opt/anaconda3/lib/python3.7/site-packages/ipykernel_launcher.py:76: UserWarning: In Matplotlib 3.3 individual lines on a stem plot will be added as a LineCollection instead of individual lines. This significantly improves the performance of a stem plot. To remove this warning and switch to the new behaviour, set the \"use_line_collection\" keyword argument to True.\n"
     ]
    },
    {
     "data": {
      "image/png": "[encoded data removed]",
      "text/plain": [
       "<Figure size 720x720 with 1 Axes>"
      ]
     },
     "metadata": {
      "needs_background": "light"
     },
     "output_type": "display_data"
    }
   ],
   "source": [
    "source_n = 2\n",
    "source_m = 3\n",
    "source_matrix = [[1, 2, 4],\n",
    "                 [4, 5, 0]]\n",
    "test(source_n, source_m, source_matrix)"
   ]
  },
  {
   "cell_type": "code",
   "execution_count": 4,
   "metadata": {},
   "outputs": [
    {
     "name": "stdout",
     "output_type": "stream",
     "text": [
      "Target F = 0.5\n",
      "Then V = 2.0\n",
      "First player tactics: [0.6666666666666666, 0, 0.33333333333333337]\n",
      "Second player tactics: [0.5, 0, 0.5]\n"
     ]
    },
    {
     "name": "stderr",
     "output_type": "stream",
     "text": [
      "/opt/anaconda3/lib/python3.7/site-packages/ipykernel_launcher.py:76: UserWarning: In Matplotlib 3.3 individual lines on a stem plot will be added as a LineCollection instead of individual lines. This significantly improves the performance of a stem plot. To remove this warning and switch to the new behaviour, set the \"use_line_collection\" keyword argument to True.\n"
     ]
    },
    {
     "data": {
      "image/png": "[encoded data removed]",
      "text/plain": [
       "<Figure size 720x720 with 1 Axes>"
      ]
     },
     "metadata": {
      "needs_background": "light"
     },
     "output_type": "display_data"
    }
   ],
   "source": [
    "source_n = 3\n",
    "source_m = 3\n",
    "source_matrix = [[1, 2, 3],\n",
    "                 [0, 5, 1],\n",
    "                 [4, 5, 0]]\n",
    "test(source_n, source_m, source_matrix)"
   ]
  },
  {
   "cell_type": "code",
   "execution_count": null,
   "metadata": {},
   "outputs": [],
   "source": []
  }
 ],
 "metadata": {
  "kernelspec": {
   "display_name": "Python 3",
   "language": "python",
   "name": "python3"
  },
  "language_info": {
   "codemirror_mode": {
    "name": "ipython",
    "version": 3
   },
   "file_extension": ".py",
   "mimetype": "text/x-python",
   "name": "python",
   "nbconvert_exporter": "python",
   "pygments_lexer": "ipython3",
   "version": "3.7.6"
  }
 },
 "nbformat": 4,
 "nbformat_minor": 4
}
